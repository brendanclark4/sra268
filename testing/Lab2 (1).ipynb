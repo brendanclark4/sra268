{
  "nbformat": 4,
  "nbformat_minor": 0,
  "metadata": {
    "colab": {
      "name": "Lab2.ipynb",
      "provenance": []
    },
    "kernelspec": {
      "name": "python3",
      "display_name": "Python 3"
    }
  },
  "cells": [
    {
      "cell_type": "markdown",
      "metadata": {
        "id": "6sOc4Uyr4U-Z",
        "colab_type": "text"
      },
      "source": [
        "## Graph Types"
      ]
    },
    {
      "cell_type": "markdown",
      "metadata": {
        "id": "0zZdVLAd5CYr",
        "colab_type": "text"
      },
      "source": [
        "Creator\n",
        "* Brendan Clark "
      ]
    },
    {
      "cell_type": "markdown",
      "metadata": {
        "id": "g-r6Clq45Hn4",
        "colab_type": "text"
      },
      "source": [
        "### Deviation\n"
      ]
    },
    {
      "cell_type": "markdown",
      "metadata": {
        "id": "ysSSEJQrfQG9",
        "colab_type": "text"
      },
      "source": [
        "![alt text](https://github.com/brendanclark4/sra268/blob/master/testing/Deviation2.png?raw=true)"
      ]
    },
    {
      "cell_type": "markdown",
      "metadata": {
        "id": "w6bZ_NEi7E3w",
        "colab_type": "text"
      },
      "source": [
        "#### What is this telling us?"
      ]
    },
    {
      "cell_type": "markdown",
      "metadata": {
        "id": "95L-spaC7QHF",
        "colab_type": "text"
      },
      "source": [
        "For my deviation graph, I used a spine graph which splits a value into two contrasting components. This was to emphasize the variation between the points of the winning and losing teams throughout the years. This shows the margin of victory that most teams had during their wins in each year. The graph demonstrates that in the late 1980s winning teams scored the most points. Losing teams also scored their highest average of points during this time period which would indicate that the games during those seasons were fast paced and high scoring. This graph allows the viewer to compare different eras of the game in an easily understandle way."
      ]
    },
    {
      "cell_type": "markdown",
      "metadata": {
        "id": "YgXyXjmz7cDP",
        "colab_type": "text"
      },
      "source": [
        "### Correlation\n"
      ]
    },
    {
      "cell_type": "markdown",
      "metadata": {
        "id": "gOLCtaHwwiIt",
        "colab_type": "text"
      },
      "source": [
        "![alt text](https://github.com/brendanclark4/sra268/blob/master/testing/Correlation.png?raw=true)"
      ]
    },
    {
      "cell_type": "markdown",
      "metadata": {
        "id": "dljjONNi7jmj",
        "colab_type": "text"
      },
      "source": [
        "#### What is this telling us?"
      ]
    },
    {
      "cell_type": "markdown",
      "metadata": {
        "id": "PwZEZrFB7laG",
        "colab_type": "text"
      },
      "source": [
        "For my correlation graph, I used a Scatterplot. I used this to show the relationship between the variables. In this graph, I used the average seeding of markets that had won games and counted the amount of seasons that they had won in. This showed how the majority of markets are located on the left side where there is a variety of seeds but not a very high count of seasons that they have won a game. Blue bloods teams are teams that are usually found in the bottom right corner where they have won games in many seasons and average a low seed in the tournament. "
      ]
    },
    {
      "cell_type": "markdown",
      "metadata": {
        "id": "MqUdI-uL7r2s",
        "colab_type": "text"
      },
      "source": [
        "### Ranking\n"
      ]
    },
    {
      "cell_type": "markdown",
      "metadata": {
        "id": "irrHekyzKTzU",
        "colab_type": "text"
      },
      "source": [
        "![alt text](https://github.com/brendanclark4/sra268/blob/master/testing/Ranking%203.png?raw=true)"
      ]
    },
    {
      "cell_type": "markdown",
      "metadata": {
        "id": "lCAYtfza7yTq",
        "colab_type": "text"
      },
      "source": [
        "#### What is this telling us?"
      ]
    },
    {
      "cell_type": "markdown",
      "metadata": {
        "id": "MyuciD277ygU",
        "colab_type": "text"
      },
      "source": [
        "For the ranking graph, I used a ranked bar graph. I wanted to find the years that overtimes were most frequent and if there was a correlation between certain decades resulting in greater or fewer amounts of overtimes during the seasons. A ranked bar graph helped me portray this in an understandle and clean looking manner. I found that their did not seem to be any correlation and that overtimes seem to be a pretty random occurance, regardless of the time period of basketball the game was played in. This makes sense, as teams adjust to each other as the season goes on which results in close games and a higher amount of overtimes as a result."
      ]
    },
    {
      "cell_type": "markdown",
      "metadata": {
        "id": "dGDGl8-G7y8Y",
        "colab_type": "text"
      },
      "source": [
        "### Distribution\n"
      ]
    },
    {
      "cell_type": "markdown",
      "metadata": {
        "id": "tijDlK2i-B-_",
        "colab_type": "text"
      },
      "source": [
        "![alt text](https://github.com/brendanclark4/sra268/blob/master/testing/Distrubution%20Chart.png?raw=true)"
      ]
    },
    {
      "cell_type": "markdown",
      "metadata": {
        "id": "_6SOzhrQ76zH",
        "colab_type": "text"
      },
      "source": [
        "#### What is this telling us?"
      ]
    },
    {
      "cell_type": "markdown",
      "metadata": {
        "id": "HBWqsS_g767h",
        "colab_type": "text"
      },
      "source": [
        "For distribution, I used this graph to show the median and range of the data. I wanted to see how well each region would do and how many rounds they would make it. Most of the median of the data was going to be similar as the majority of teams in the tournament lose in the first couple rounds, but the outliers were where I could understand what region had teams make it the furthest. Region Y had the highest outlier showing that a team from their region made it the furthest in the tournament based on the data."
      ]
    },
    {
      "cell_type": "markdown",
      "metadata": {
        "id": "wQsDThk677Fy",
        "colab_type": "text"
      },
      "source": [
        "### Change over Time\n"
      ]
    },
    {
      "cell_type": "markdown",
      "metadata": {
        "id": "_IhKQj5N-NCM",
        "colab_type": "text"
      },
      "source": [
        "![alt text](https://github.com/brendanclark4/sra268/blob/master/testing/Change%20Over%20Time%20Graph.png?raw=true)"
      ]
    },
    {
      "cell_type": "markdown",
      "metadata": {
        "id": "mpfsmmgi7_Vj",
        "colab_type": "text"
      },
      "source": [
        "#### What is this telling us?"
      ]
    },
    {
      "cell_type": "markdown",
      "metadata": {
        "id": "rYLXoMMO7_di",
        "colab_type": "text"
      },
      "source": [
        "To show the change over time in the data, I used a standard line graph. It was the most efficient and easily understandle form of presenting this information. I presented the average seed of winning teams over the last thirty years in the NCAA tournament. This line tends to stay towards the best seeds as they have proved to be proficient teams over the season and usually have no problem atleast winning their first few games in the tournament. 2006 showed to be even more of a \"chalk\" year, or a year where top seeds do better than lower ranked years, as the line dipped towards the one seed."
      ]
    },
    {
      "cell_type": "markdown",
      "metadata": {
        "id": "lFwiHoE-7_jZ",
        "colab_type": "text"
      },
      "source": [
        "### Magnitude\n"
      ]
    },
    {
      "cell_type": "markdown",
      "metadata": {
        "id": "qtPxV0wp-hYv",
        "colab_type": "text"
      },
      "source": [
        "![alt text](https://github.com/brendanclark4/sra268/blob/master/testing/HorizontalBar.png?raw=true)"
      ]
    },
    {
      "cell_type": "markdown",
      "metadata": {
        "id": "QGG7XYG88Eii",
        "colab_type": "text"
      },
      "source": [
        "#### What is this telling us?"
      ]
    },
    {
      "cell_type": "markdown",
      "metadata": {
        "id": "VS7uGa0l8Eos",
        "colab_type": "text"
      },
      "source": [
        "For magnitude, I used a horizontal bar graph to compare data from different years. I wanted to find the lowest amount of points that a winning team scored every year to see how low scoring some games could be. March Madness has some low scoring contests and this graph illustrates that very well. Twice in the late 1990s a team barely scored forty points and still managed to win and advance in the tournament, but in 2017 no team scored less than sixty points in a game that they won. Teams such as Virginia are notorious for grinding out low scoring wins and many teams have tried to model that strategy of perfecting their defensive abilities rather than their offense."
      ]
    },
    {
      "cell_type": "markdown",
      "metadata": {
        "id": "bEKFxP8R8Evk",
        "colab_type": "text"
      },
      "source": [
        "### Part-to-Whole\n"
      ]
    },
    {
      "cell_type": "markdown",
      "metadata": {
        "id": "J03Gl9IQ-lvi",
        "colab_type": "text"
      },
      "source": [
        "![alt text](https://github.com/brendanclark4/sra268/blob/master/testing/Part-to-whole.png?raw=true)"
      ]
    },
    {
      "cell_type": "markdown",
      "metadata": {
        "id": "PNSd3wlp8UZH",
        "colab_type": "text"
      },
      "source": [
        "#### What is this telling us?"
      ]
    },
    {
      "cell_type": "markdown",
      "metadata": {
        "id": "y9tb_QRA8aqt",
        "colab_type": "text"
      },
      "source": [
        "To show how entities related to other entities in the data for part-to-whole, I used a treemap. I used the wins in every season for each of the team mascots' tax classes to put together the graph. The graph shows which tax classes have had the most wins and puts it into an easily understandle chart for the reader. Aves, mammalia, and magnolopsida represent the top three tax classes, while liliopsida and arachnida round out the bottom with least wins on the chart. While not particularly related to actual teams, this was some fun information to learn about the mascots of the schools in the NCAA."
      ]
    }
  ]
}