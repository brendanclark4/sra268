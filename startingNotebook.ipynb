{
  "nbformat": 4,
  "nbformat_minor": 0,
  "metadata": {
    "colab": {
      "name": "startingNotebook.ipynb",
      "provenance": [],
      "authorship_tag": "ABX9TyP41qxaclZxC47BUwvQTSq8",
      "include_colab_link": true
    },
    "kernelspec": {
      "name": "python3",
      "display_name": "Python 3"
    }
  },
  "cells": [
    {
      "cell_type": "markdown",
      "metadata": {
        "id": "view-in-github",
        "colab_type": "text"
      },
      "source": [
        "<a href=\"https://colab.research.google.com/github/brendanclark4/sra268/blob/master/startingNotebook.ipynb\" target=\"_parent\"><img src=\"https://colab.research.google.com/assets/colab-badge.svg\" alt=\"Open In Colab\"/></a>"
      ]
    },
    {
      "cell_type": "code",
      "metadata": {
        "id": "KGIXaIP95ETV",
        "colab_type": "code",
        "colab": {}
      },
      "source": [
        ""
      ],
      "execution_count": 0,
      "outputs": []
    },
    {
      "cell_type": "markdown",
      "metadata": {
        "id": "MThWHiv86CUj",
        "colab_type": "text"
      },
      "source": [
        "![alt text](https://avatars1.githubusercontent.com/u/60006015?s=460&v=4)"
      ]
    },
    {
      "cell_type": "markdown",
      "metadata": {
        "id": "UovaFZTr58-c",
        "colab_type": "text"
      },
      "source": [
        "# Title"
      ]
    }
  ]
}