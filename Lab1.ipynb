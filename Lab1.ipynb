{
  "nbformat": 4,
  "nbformat_minor": 0,
  "metadata": {
    "colab": {
      "name": "Lab1.ipynb",
      "provenance": [],
      "authorship_tag": "ABX9TyNgJEKXIqS4gY0ej0BrJOrU",
      "include_colab_link": true
    },
    "kernelspec": {
      "name": "python3",
      "display_name": "Python 3"
    }
  },
  "cells": [
    {
      "cell_type": "markdown",
      "metadata": {
        "id": "view-in-github",
        "colab_type": "text"
      },
      "source": [
        "<a href=\"https://colab.research.google.com/github/brendanclark4/sra268/blob/master/Lab1.ipynb\" target=\"_parent\"><img src=\"https://colab.research.google.com/assets/colab-badge.svg\" alt=\"Open In Colab\"/></a>"
      ]
    },
    {
      "cell_type": "markdown",
      "metadata": {
        "id": "Z4BIf54z7AXV",
        "colab_type": "text"
      },
      "source": [
        "# Precipitation Before and After Christmas"
      ]
    },
    {
      "cell_type": "markdown",
      "metadata": {
        "id": "rXdwq2oB7IW0",
        "colab_type": "text"
      },
      "source": [
        "For my lab I wanted to pick a date of significance and find the weather around that time period. The idea of having a \"White Christmas\" has been popular in our culture for many years. I decided to analyze the data from the days before and after Christmas and see the levels of snow around that date.  "
      ]
    },
    {
      "cell_type": "markdown",
      "metadata": {
        "id": "ppQTB-eaBzve",
        "colab_type": "text"
      },
      "source": [
        "![alt text](https://github.com/brendanclark4/sra268/blob/master/Lab%201%20Graph.png?raw=true)"
      ]
    },
    {
      "cell_type": "markdown",
      "metadata": {
        "id": "H9hKWCs9CPLd",
        "colab_type": "text"
      },
      "source": [
        "For my subset of data, I used the dates from December 22nd to December 29th. I felt that this would give me a fair conclusion on whether or not there was a lot of snow around Christmas. I found that while there was some snow recorded on and around Christmas, it was a minimal amount and certainly not enough to classify this year as a \"White Christmas.\""
      ]
    }
  ]
}